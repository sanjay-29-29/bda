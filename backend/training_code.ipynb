{
 "cells": [
  {
   "cell_type": "code",
   "execution_count": 5,
   "metadata": {},
   "outputs": [],
   "source": [
    "from pyspark.sql import SparkSession\n",
    "from pyspark.ml.feature import VectorAssembler, StandardScaler\n",
    "from pyspark.ml.regression import LinearRegression\n",
    "from pyspark.ml import Pipeline"
   ]
  },
  {
   "cell_type": "code",
   "execution_count": 6,
   "metadata": {},
   "outputs": [],
   "source": [
    "spark = SparkSession.builder.appName(\"DiabetesMLModel\").getOrCreate()\n",
    "\n",
    "file_path = \"dataset.tsv\"  # Replace with the actual path to your TSV file\n",
    "df = spark.read.csv(file_path, sep=\"\\t\", header=True, inferSchema=True)\n"
   ]
  },
  {
   "cell_type": "code",
   "execution_count": 7,
   "metadata": {},
   "outputs": [
    {
     "name": "stdout",
     "output_type": "stream",
     "text": [
      "+---+---+----+-----+---+-----+----+----+------+---+---+\n",
      "|AGE|SEX| BMI|   BP| S1|   S2|  S3|  S4|    S5| S6|  Y|\n",
      "+---+---+----+-----+---+-----+----+----+------+---+---+\n",
      "| 59|  2|32.1|101.0|157| 93.2|38.0| 4.0|4.8598| 87|151|\n",
      "| 48|  1|21.6| 87.0|183|103.2|70.0| 3.0|3.8918| 69| 75|\n",
      "| 72|  2|30.5| 93.0|156| 93.6|41.0| 4.0|4.6728| 85|141|\n",
      "| 24|  1|25.3| 84.0|198|131.4|40.0| 5.0|4.8903| 89|206|\n",
      "| 50|  1|23.0|101.0|192|125.4|52.0| 4.0|4.2905| 80|135|\n",
      "| 23|  1|22.6| 89.0|139| 64.8|61.0| 2.0|4.1897| 68| 97|\n",
      "| 36|  2|22.0| 90.0|160| 99.6|50.0| 3.0|3.9512| 82|138|\n",
      "| 66|  2|26.2|114.0|255|185.0|56.0|4.55|4.2485| 92| 63|\n",
      "| 60|  2|32.1| 83.0|179|119.4|42.0| 4.0|4.4773| 94|110|\n",
      "| 29|  1|30.0| 85.0|180| 93.4|43.0| 4.0|5.3845| 88|310|\n",
      "| 22|  1|18.6| 97.0|114| 57.6|46.0| 2.0|3.9512| 83|101|\n",
      "| 56|  2|28.0| 85.0|184|144.8|32.0| 6.0|3.5835| 77| 69|\n",
      "| 53|  1|23.7| 92.0|186|109.2|62.0| 3.0|4.3041| 81|179|\n",
      "| 50|  2|26.2| 97.0|186|105.4|49.0| 4.0|5.0626| 88|185|\n",
      "| 61|  1|24.0| 91.0|202|115.4|72.0| 3.0|4.2905| 73|118|\n",
      "| 34|  2|24.7|118.0|254|184.2|39.0| 7.0| 5.037| 81|171|\n",
      "| 47|  1|30.3|109.0|207|100.2|70.0| 3.0|5.2149| 98|166|\n",
      "| 68|  2|27.5|111.0|214|147.0|39.0| 5.0|4.9416| 91|144|\n",
      "| 38|  1|25.4| 84.0|162|103.0|42.0| 4.0|4.4427| 87| 97|\n",
      "| 41|  1|24.7| 83.0|187|108.2|60.0| 3.0|4.5433| 78|168|\n",
      "+---+---+----+-----+---+-----+----+----+------+---+---+\n",
      "only showing top 20 rows\n",
      "\n",
      "root\n",
      " |-- AGE: integer (nullable = true)\n",
      " |-- SEX: integer (nullable = true)\n",
      " |-- BMI: double (nullable = true)\n",
      " |-- BP: double (nullable = true)\n",
      " |-- S1: integer (nullable = true)\n",
      " |-- S2: double (nullable = true)\n",
      " |-- S3: double (nullable = true)\n",
      " |-- S4: double (nullable = true)\n",
      " |-- S5: double (nullable = true)\n",
      " |-- S6: integer (nullable = true)\n",
      " |-- Y: integer (nullable = true)\n",
      "\n"
     ]
    }
   ],
   "source": [
    "df.show()\n",
    "df.printSchema()"
   ]
  },
  {
   "cell_type": "code",
   "execution_count": 8,
   "metadata": {},
   "outputs": [],
   "source": [
    "feature_columns = [\"AGE\", \"SEX\", \"BMI\", \"BP\", \"S1\", \"S2\", \"S3\", \"S4\", \"S5\", \"S6\"]\n",
    "assembler = VectorAssembler(inputCols=feature_columns, outputCol=\"features\")"
   ]
  },
  {
   "cell_type": "code",
   "execution_count": 9,
   "metadata": {},
   "outputs": [],
   "source": [
    "scaler = StandardScaler(inputCol=\"features\", outputCol=\"scaledFeatures\", withStd=True, withMean=True)"
   ]
  },
  {
   "cell_type": "code",
   "execution_count": 10,
   "metadata": {},
   "outputs": [],
   "source": [
    "train_data, test_data = df.randomSplit([0.8, 0.2], seed=42)"
   ]
  },
  {
   "cell_type": "code",
   "execution_count": 11,
   "metadata": {},
   "outputs": [
    {
     "name": "stdout",
     "output_type": "stream",
     "text": [
      "+---+------------------+\n",
      "|  Y|        prediction|\n",
      "+---+------------------+\n",
      "|200|140.34554571372053|\n",
      "| 55| 73.83848225762115|\n",
      "|101|102.41351279842553|\n",
      "| 97|106.94631030841333|\n",
      "| 68|114.28126929607578|\n",
      "| 49| 91.63709174839992|\n",
      "|233|198.41895399793856|\n",
      "|101|189.27474163905794|\n",
      "|143| 70.76665046297568|\n",
      "|202|146.08861528798616|\n",
      "|214|  119.675030398686|\n",
      "|101|100.04839697713273|\n",
      "|258| 166.0158222672214|\n",
      "| 96|113.84047247763486|\n",
      "| 70| 65.09009333130471|\n",
      "|172|139.37813989647447|\n",
      "|243|277.27659610120645|\n",
      "|259|235.47168032419415|\n",
      "|128| 95.31569572801807|\n",
      "| 67|131.82466328967936|\n",
      "+---+------------------+\n",
      "only showing top 20 rows\n",
      "\n",
      "Root Mean Squared Error (RMSE): 59.6307568418301\n"
     ]
    }
   ],
   "source": [
    "lr = LinearRegression(featuresCol=\"scaledFeatures\", labelCol=\"Y\", maxIter=100, regParam=0.1)\n",
    "\n",
    "pipeline = Pipeline(stages=[assembler, scaler, lr])\n",
    "\n",
    "model = pipeline.fit(train_data)\n",
    "\n",
    "predictions = model.transform(test_data)\n",
    "predictions.select(\"Y\", \"prediction\").show()\n",
    "\n",
    "from pyspark.ml.evaluation import RegressionEvaluator\n",
    "evaluator = RegressionEvaluator(labelCol=\"Y\", predictionCol=\"prediction\", metricName=\"rmse\")\n",
    "rmse = evaluator.evaluate(predictions)\n",
    "print(f\"Root Mean Squared Error (RMSE): {rmse}\")"
   ]
  },
  {
   "cell_type": "code",
   "execution_count": 12,
   "metadata": {},
   "outputs": [],
   "source": [
    "# Save the trained model\n",
    "model_save_path = \"model\"\n",
    "model.write().overwrite().save(model_save_path)"
   ]
  }
 ],
 "metadata": {
  "kernelspec": {
   "display_name": "torch",
   "language": "python",
   "name": "python3"
  },
  "language_info": {
   "codemirror_mode": {
    "name": "ipython",
    "version": 3
   },
   "file_extension": ".py",
   "mimetype": "text/x-python",
   "name": "python",
   "nbconvert_exporter": "python",
   "pygments_lexer": "ipython3",
   "version": "3.10.6"
  }
 },
 "nbformat": 4,
 "nbformat_minor": 2
}
